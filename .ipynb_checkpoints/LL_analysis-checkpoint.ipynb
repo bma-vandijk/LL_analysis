{
 "cells": [
  {
   "cell_type": "markdown",
   "id": "6363d9b3-7d9f-4ff8-beab-a2e9542e7c45",
   "metadata": {},
   "source": [
    "# Lowlands analysis"
   ]
  },
  {
   "cell_type": "markdown",
   "id": "37127abb-a630-4e23-8505-f45b201b2da9",
   "metadata": {},
   "source": [
    "## Imports\n",
    "Loading necessary modules and initialise the parser"
   ]
  },
  {
   "cell_type": "code",
   "execution_count": 1,
   "id": "4aae3076-02ee-43f8-8f00-be673350856e",
   "metadata": {},
   "outputs": [
    {
     "name": "stderr",
     "output_type": "stream",
     "text": [
      "20210801:151406:274:config read from: /home/bma-vandijk/lama/share/frog/nld/frog.cfg\n",
      "20210801:151406:274:configuration version = 0.12\n",
      "20210801:151406:274: MWU disabled, because the Parser is deselected\n",
      "20210801:151406:274:mblem-:Initiating lemmatizer...\n",
      "ucto: textcat configured from: /home/bma-vandijk/lama/share/ucto/textcat.cfg\n",
      "20210801:151407:346:tagger-tagger-:reading subsets from /home/bma-vandijk/lama/share/frog/nld//subsets.cgn\n",
      "20210801:151407:346:tagger-tagger-:reading constraints from /home/bma-vandijk/lama/share/frog/nld//constraints.cgn\n",
      "20210801:151407:346:Sun Aug  1 15:14:07 2021 Initialization done.\n"
     ]
    }
   ],
   "source": [
    "import os\n",
    "import csv\n",
    "import re\n",
    "import pandas as pd\n",
    "import numpy as np\n",
    "from frog import Frog, FrogOptions\n",
    "\n",
    "\n",
    "# set up frog\n",
    "frog = Frog(FrogOptions(parser=False, morph=False,\n",
    "                            chunking=False, mwu=True,\n",
    "                            ner=False))\n",
    "\n",
    "# assign home dir\n",
    "wd = os.getcwd()"
   ]
  },
  {
   "cell_type": "markdown",
   "id": "2ca82fb9-f0b8-4586-bc2d-6567dd6529c9",
   "metadata": {},
   "source": [
    "## Preprocessing\n",
    "We load all the stories in a list of lists, with the latter consisting of story id and story string.\n",
    "There is some notational information extra in the transcription that is removed with the regexp function remove().\n"
   ]
  },
  {
   "cell_type": "code",
   "execution_count": 2,
   "id": "4a96e396-daf6-445a-a4ec-069ff65e16d1",
   "metadata": {
    "tags": []
   },
   "outputs": [],
   "source": [
    "def remove(raw):\n",
    "    raw = re.sub(r'(X|x)x{2,}', '', raw)                        # removes unclear speech codes (Xxx-xxx)\n",
    "    raw = re.sub(r'\\w+\\.?\\*n','', raw)                          # removes self-made words, onomatopoeias (*n)\n",
    "    raw = re.sub(r'(\\w+\\.?\\*a)', '', raw)                       # removes broken off words (*a)\n",
    "    raw = re.sub(r'\\.?\\*v', '', raw)                            # removes notation for foreign words (*v)\n",
    "    raw = re.sub(r'(\\w+\\-)+(\\w+)\\.?\\*u', r'\\2', raw)            # removes restarts of fully pronounced words (*u)\n",
    "    #raw = re.sub(r\"([A-Z]+(\\w)*-?(\\w)+('(\\w)+)?)\", '', raw)    # removes capitalized words, single letters\n",
    "    raw = re.sub(r'[eE]hm', '', raw)                            # removes standard interjection\n",
    "    raw = re.sub(r'\\?{2,}', '', raw)                            # removes two or more ?? in text\n",
    "    return raw\n",
    "\n",
    "themes  = ['01', '11', '21'], ['02', '12', '22'], ['03', '13', '23'], ['04', '14', '24'], ['05', '15', '25']\n",
    "\n",
    "def extract_storystrings():\n",
    "    \n",
    "    stories = []\n",
    "    \n",
    "    for i in themes:\n",
    "        story_ids = [f for f in os.listdir(f'{wd}/Lowlands_transcripts') if f[:2] in i]\n",
    "        story_ids.sort()\n",
    "\n",
    "        for s in story_ids:\n",
    "            with open(f'{wd}/Lowlands_transcripts/{s}', mode='r', encoding='utf-8-sig') as f:\n",
    "                stories.append([s[:4], remove(f.read())])\n",
    "                \n",
    "    return dict(stories)"
   ]
  },
  {
   "cell_type": "code",
   "execution_count": 3,
   "id": "b1f059bc-b39e-4ed4-bc22-c1aa19ae775d",
   "metadata": {},
   "outputs": [],
   "source": [
    "stories = extract_storystrings()"
   ]
  },
  {
   "cell_type": "markdown",
   "id": "e6c11a6f-3ca0-4683-9378-4188cb06334d",
   "metadata": {
    "tags": []
   },
   "source": [
    "## Analysis\n",
    "First we like to see how type/token ratios develop once story chains progress. Is this different for the five different stories?"
   ]
  },
  {
   "cell_type": "code",
   "execution_count": 4,
   "id": "15c0a37b-abb2-4281-a17b-289813e446f7",
   "metadata": {},
   "outputs": [],
   "source": [
    "def ttr(storydict):\n",
    "    stats = []\n",
    "    \n",
    "    for i, s  in storydict.items():\n",
    "        types = len(set([w for w in s.split() if w.islower() and w.isalpha()]))\n",
    "        tokens =len([w for w in s.split() if w.islower() and w.isalpha()])\n",
    "        stats.append((i, round(types/tokens, 2)))\n",
    "    \n",
    "    return dict(stats)"
   ]
  },
  {
   "cell_type": "code",
   "execution_count": 5,
   "id": "fccd763b-705f-41ae-838c-9349aaa60b73",
   "metadata": {},
   "outputs": [],
   "source": [
    "stories_df = pd.DataFrame.from_dict(ttr(stories), orient='index', columns = ['ttr'])"
   ]
  },
  {
   "cell_type": "markdown",
   "id": "0e553b7e-63c5-4202-9919-e67781c748d4",
   "metadata": {
    "tags": []
   },
   "source": [
    "The plots show that for 4 of the 5 stories, most of the chains end in a higher ttr than they started, which means stories get more dense. They are becoming shorter with more unique words.\n",
    "The exception is the 'opgraving' story, here that only happens in 1 of the 3 chains."
   ]
  },
  {
   "cell_type": "code",
   "execution_count": 6,
   "id": "a3b37c13-1d70-43bb-ae5c-b72964b7f287",
   "metadata": {},
   "outputs": [
    {
     "data": {
      "text/plain": [
       "<AxesSubplot:>"
      ]
     },
     "execution_count": 6,
     "metadata": {},
     "output_type": "execute_result"
    },
    {
     "data": {
      "image/png": "[encoded data removed]",
      "text/plain": [
       "<Figure size 432x288 with 1 Axes>"
      ]
     },
     "metadata": {
      "needs_background": "light"
     },
     "output_type": "display_data"
    }
   ],
   "source": [
    "koffie = stories_df.filter(regex=\"^(01|11|21)\\d+\", axis = 0)\n",
    "koffie.plot.bar()"
   ]
  },
  {
   "cell_type": "code",
   "execution_count": 7,
   "id": "9663787f-a093-4b9a-95b8-832c93698658",
   "metadata": {},
   "outputs": [
    {
     "data": {
      "text/plain": [
       "<AxesSubplot:>"
      ]
     },
     "execution_count": 7,
     "metadata": {},
     "output_type": "execute_result"
    },
    {
     "data": {
      "image/png": "[encoded data removed]",
      "text/plain": [
       "<Figure size 432x288 with 1 Axes>"
      ]
     },
     "metadata": {
      "needs_background": "light"
     },
     "output_type": "display_data"
    }
   ],
   "source": [
    "pet = stories_df.filter(regex=\"^(02|12|22)\\d+\", axis = 0)\n",
    "pet.plot.bar()"
   ]
  },
  {
   "cell_type": "code",
   "execution_count": 8,
   "id": "3f532390-03c2-4d83-ba72-a720ddcd79ef",
   "metadata": {},
   "outputs": [
    {
     "data": {
      "text/plain": [
       "<AxesSubplot:>"
      ]
     },
     "execution_count": 8,
     "metadata": {},
     "output_type": "execute_result"
    },
    {
     "data": {
      "image/png": "[encoded data removed]",
      "text/plain": [
       "<Figure size 432x288 with 1 Axes>"
      ]
     },
     "metadata": {
      "needs_background": "light"
     },
     "output_type": "display_data"
    }
   ],
   "source": [
    "kipfilet = stories_df.filter(regex=\"^(03|13|23)\\d+\", axis = 0)\n",
    "kipfilet.plot.bar()"
   ]
  },
  {
   "cell_type": "code",
   "execution_count": 9,
   "id": "549d9efa-785e-4227-b718-07096937153b",
   "metadata": {},
   "outputs": [
    {
     "data": {
      "text/plain": [
       "<AxesSubplot:>"
      ]
     },
     "execution_count": 9,
     "metadata": {},
     "output_type": "execute_result"
    },
    {
     "data": {
      "image/png": "[encoded data removed]",
      "text/plain": [
       "<Figure size 432x288 with 1 Axes>"
      ]
     },
     "metadata": {
      "needs_background": "light"
     },
     "output_type": "display_data"
    }
   ],
   "source": [
    "bank = stories_df.filter(regex=\"^(04|14|24)\\d+\", axis = 0)\n",
    "bank.plot.bar()"
   ]
  },
  {
   "cell_type": "code",
   "execution_count": 10,
   "id": "6f910f60-0af9-49ea-b5d7-a3191fdf363d",
   "metadata": {},
   "outputs": [
    {
     "data": {
      "text/plain": [
       "<AxesSubplot:>"
      ]
     },
     "execution_count": 10,
     "metadata": {},
     "output_type": "execute_result"
    },
    {
     "data": {
      "image/png": "[encoded data removed]",
      "text/plain": [
       "<Figure size 432x288 with 1 Axes>"
      ]
     },
     "metadata": {
      "needs_background": "light"
     },
     "output_type": "display_data"
    }
   ],
   "source": [
    "opgraving = stories_df.filter(regex=\"^(05|15|25)\\d+\", axis = 0)\n",
    "opgraving.plot.bar()"
   ]
  },
  {
   "cell_type": "markdown",
   "id": "72ccb114-ca4c-4c9a-9de4-a7fadd3277a5",
   "metadata": {
    "tags": []
   },
   "source": [
    "What about POS-distributions in the chains?"
   ]
  },
  {
   "cell_type": "code",
   "execution_count": 11,
   "id": "581e7013-5289-4c69-ae20-e6244174c42d",
   "metadata": {
    "tags": []
   },
   "outputs": [],
   "source": [
    "def pos(storydict):\n",
    "    '''this function parses a string line by line\n",
    "    and saves output in a dict'''\n",
    "    tags = []\n",
    "    \n",
    "    for i, s  in storydict.items():\n",
    "        tags.append((i, frog.process(s)))\n",
    "    \n",
    "    return dict(tags)"
   ]
  },
  {
   "cell_type": "code",
   "execution_count": 12,
   "id": "0409d1ce-202e-4781-b050-dd7f7a3cb01d",
   "metadata": {
    "tags": []
   },
   "outputs": [],
   "source": [
    "tags = pos(stories)"
   ]
  },
  {
   "cell_type": "code",
   "execution_count": 14,
   "id": "9aac42dd-5a4e-4cf7-9486-9af05d37f2ca",
   "metadata": {},
   "outputs": [],
   "source": [
    "def pos_dists(frog_output):\n",
    "    '''this function extracts for each word in a story its tag\n",
    "    and adds it to an empty list, with the first loop.'''\n",
    "    \n",
    "    pos = []\n",
    "    ids = []\n",
    "    \n",
    "    for story in tags:\n",
    "        ids.append(str(story))\n",
    "        for i in range(len(tags[str(story)])):\n",
    "            pos.append((story, tags[str(story)][i]['pos']))\n",
    "        \n",
    "            \n",
    "    return pos, ids"
   ]
  },
  {
   "cell_type": "code",
   "execution_count": 15,
   "id": "de86d81b-fd27-4be7-aa87-acfcc174343d",
   "metadata": {
    "tags": []
   },
   "outputs": [],
   "source": [
    "parses, ids = pos_dists(tags)"
   ]
  },
  {
   "cell_type": "code",
   "execution_count": 45,
   "id": "e8cacbcb-9e29-47b4-bde9-96c0a1cab196",
   "metadata": {},
   "outputs": [],
   "source": [
    "def condense(parses, ids):\n",
    "    '''this function creates and updates a dictionary with \n",
    "    number of POS-occurrences per story'''\n",
    "    \n",
    "    tagdict = []\n",
    "    \n",
    "    for i in ids:\n",
    "        \n",
    "        tag_dict = {\"ADJ\":0, \"N\":0, \"WW\":0, \"VNW\":0, \"VZ\":0, \n",
    "            \"SPEC\":0, \"TW\":0, \"LID\":0, \"VG\":0, \"BW\":0, \"TSW\":0, \"LET\":0}\n",
    "        \n",
    "        for word in parses:\n",
    "            if word[0] == i:\n",
    "            \n",
    "                if \"ADJ\" in word[1]:\n",
    "                    tag_dict[\"ADJ\"] += 1\n",
    "                elif \"N(\" in word[1]:\n",
    "                    tag_dict[\"N\"] += 1\n",
    "                elif \"WW\" in word[1]:\n",
    "                    tag_dict[\"WW\"] += 1\n",
    "                elif \"VNW\" in word[1]:\n",
    "                    tag_dict[\"VNW\"] += 1\n",
    "                elif \"VZ\" in word[1]:\n",
    "                    tag_dict[\"VZ\"] += 1\n",
    "                elif \"SPEC\" in word[1]:\n",
    "                    tag_dict[\"SPEC\"] += 1\n",
    "                elif \"TW\" in word[1]:\n",
    "                    tag_dict[\"TW\"] += 1\n",
    "                elif \"LID\" in word[1]:\n",
    "                    tag_dict[\"LID\"] += 1\n",
    "                elif \"VG\" in word[1]:\n",
    "                    tag_dict[\"VG\"] += 1\n",
    "                elif \"BW\" in word[1]:\n",
    "                    tag_dict[\"BW\"] += 1\n",
    "                elif \"TSW\" in word[1]:\n",
    "                    tag_dict[\"TSW\"] += 1\n",
    "                elif \"LET\" in word[1]:\n",
    "                    tag_dict[\"LET\"] += 1\n",
    "        \n",
    "        tagdict.append((i, tag_dict))\n",
    "    \n",
    "    return dict(tagdict)"
   ]
  },
  {
   "cell_type": "code",
   "execution_count": 46,
   "id": "6b99d671-b79a-4395-a419-f7bd3432cd4b",
   "metadata": {},
   "outputs": [],
   "source": [
    "pos_dists = condense(parses, ids)"
   ]
  },
  {
   "cell_type": "code",
   "execution_count": 49,
   "id": "d119878a-342c-4632-b623-ca6f616cd6ae",
   "metadata": {},
   "outputs": [],
   "source": [
    "dist_df = pd.DataFrame.from_dict(pos_dists, orient='index',\n",
    "                                 columns = ['ADJ', 'N', 'WW', 'VNW', 'VZ', 'SPEC',\n",
    "                                            'TW', 'LID', 'VG', 'BW', 'TSW', 'LET'])"
   ]
  },
  {
   "cell_type": "code",
   "execution_count": 50,
   "id": "7f29492b-613c-4efa-ad1f-3531bb73bbd6",
   "metadata": {},
   "outputs": [
    {
     "data": {
      "text/html": [
       "<div>\n",
       "<style scoped>\n",
       "    .dataframe tbody tr th:only-of-type {\n",
       "        vertical-align: middle;\n",
       "    }\n",
       "\n",
       "    .dataframe tbody tr th {\n",
       "        vertical-align: top;\n",
       "    }\n",
       "\n",
       "    .dataframe thead th {\n",
       "        text-align: right;\n",
       "    }\n",
       "</style>\n",
       "<table border=\"1\" class=\"dataframe\">\n",
       "  <thead>\n",
       "    <tr style=\"text-align: right;\">\n",
       "      <th></th>\n",
       "      <th>ADJ</th>\n",
       "      <th>N</th>\n",
       "      <th>WW</th>\n",
       "      <th>VNW</th>\n",
       "      <th>VZ</th>\n",
       "      <th>SPEC</th>\n",
       "      <th>TW</th>\n",
       "      <th>LID</th>\n",
       "      <th>VG</th>\n",
       "      <th>BW</th>\n",
       "      <th>TSW</th>\n",
       "      <th>LET</th>\n",
       "    </tr>\n",
       "  </thead>\n",
       "  <tbody>\n",
       "    <tr>\n",
       "      <th>0100</th>\n",
       "      <td>21</td>\n",
       "      <td>82</td>\n",
       "      <td>85</td>\n",
       "      <td>61</td>\n",
       "      <td>51</td>\n",
       "      <td>36</td>\n",
       "      <td>17</td>\n",
       "      <td>39</td>\n",
       "      <td>24</td>\n",
       "      <td>25</td>\n",
       "      <td>1</td>\n",
       "      <td>44</td>\n",
       "    </tr>\n",
       "    <tr>\n",
       "      <th>0101</th>\n",
       "      <td>18</td>\n",
       "      <td>54</td>\n",
       "      <td>78</td>\n",
       "      <td>57</td>\n",
       "      <td>43</td>\n",
       "      <td>32</td>\n",
       "      <td>6</td>\n",
       "      <td>26</td>\n",
       "      <td>21</td>\n",
       "      <td>26</td>\n",
       "      <td>1</td>\n",
       "      <td>28</td>\n",
       "    </tr>\n",
       "    <tr>\n",
       "      <th>0102</th>\n",
       "      <td>32</td>\n",
       "      <td>62</td>\n",
       "      <td>101</td>\n",
       "      <td>100</td>\n",
       "      <td>42</td>\n",
       "      <td>34</td>\n",
       "      <td>5</td>\n",
       "      <td>30</td>\n",
       "      <td>41</td>\n",
       "      <td>64</td>\n",
       "      <td>5</td>\n",
       "      <td>61</td>\n",
       "    </tr>\n",
       "    <tr>\n",
       "      <th>0103</th>\n",
       "      <td>13</td>\n",
       "      <td>36</td>\n",
       "      <td>65</td>\n",
       "      <td>52</td>\n",
       "      <td>33</td>\n",
       "      <td>25</td>\n",
       "      <td>3</td>\n",
       "      <td>22</td>\n",
       "      <td>28</td>\n",
       "      <td>36</td>\n",
       "      <td>0</td>\n",
       "      <td>25</td>\n",
       "    </tr>\n",
       "    <tr>\n",
       "      <th>0104</th>\n",
       "      <td>12</td>\n",
       "      <td>35</td>\n",
       "      <td>58</td>\n",
       "      <td>45</td>\n",
       "      <td>30</td>\n",
       "      <td>19</td>\n",
       "      <td>5</td>\n",
       "      <td>21</td>\n",
       "      <td>26</td>\n",
       "      <td>44</td>\n",
       "      <td>2</td>\n",
       "      <td>21</td>\n",
       "    </tr>\n",
       "    <tr>\n",
       "      <th>...</th>\n",
       "      <td>...</td>\n",
       "      <td>...</td>\n",
       "      <td>...</td>\n",
       "      <td>...</td>\n",
       "      <td>...</td>\n",
       "      <td>...</td>\n",
       "      <td>...</td>\n",
       "      <td>...</td>\n",
       "      <td>...</td>\n",
       "      <td>...</td>\n",
       "      <td>...</td>\n",
       "      <td>...</td>\n",
       "    </tr>\n",
       "    <tr>\n",
       "      <th>2502</th>\n",
       "      <td>53</td>\n",
       "      <td>57</td>\n",
       "      <td>82</td>\n",
       "      <td>87</td>\n",
       "      <td>36</td>\n",
       "      <td>19</td>\n",
       "      <td>2</td>\n",
       "      <td>34</td>\n",
       "      <td>23</td>\n",
       "      <td>71</td>\n",
       "      <td>11</td>\n",
       "      <td>71</td>\n",
       "    </tr>\n",
       "    <tr>\n",
       "      <th>2503</th>\n",
       "      <td>16</td>\n",
       "      <td>45</td>\n",
       "      <td>58</td>\n",
       "      <td>52</td>\n",
       "      <td>38</td>\n",
       "      <td>20</td>\n",
       "      <td>1</td>\n",
       "      <td>29</td>\n",
       "      <td>24</td>\n",
       "      <td>25</td>\n",
       "      <td>0</td>\n",
       "      <td>46</td>\n",
       "    </tr>\n",
       "    <tr>\n",
       "      <th>2504</th>\n",
       "      <td>18</td>\n",
       "      <td>33</td>\n",
       "      <td>59</td>\n",
       "      <td>68</td>\n",
       "      <td>24</td>\n",
       "      <td>16</td>\n",
       "      <td>1</td>\n",
       "      <td>19</td>\n",
       "      <td>20</td>\n",
       "      <td>34</td>\n",
       "      <td>1</td>\n",
       "      <td>42</td>\n",
       "    </tr>\n",
       "    <tr>\n",
       "      <th>2505</th>\n",
       "      <td>10</td>\n",
       "      <td>37</td>\n",
       "      <td>47</td>\n",
       "      <td>35</td>\n",
       "      <td>17</td>\n",
       "      <td>22</td>\n",
       "      <td>1</td>\n",
       "      <td>19</td>\n",
       "      <td>14</td>\n",
       "      <td>19</td>\n",
       "      <td>1</td>\n",
       "      <td>27</td>\n",
       "    </tr>\n",
       "    <tr>\n",
       "      <th>2506</th>\n",
       "      <td>22</td>\n",
       "      <td>49</td>\n",
       "      <td>46</td>\n",
       "      <td>51</td>\n",
       "      <td>23</td>\n",
       "      <td>18</td>\n",
       "      <td>1</td>\n",
       "      <td>19</td>\n",
       "      <td>5</td>\n",
       "      <td>23</td>\n",
       "      <td>1</td>\n",
       "      <td>48</td>\n",
       "    </tr>\n",
       "  </tbody>\n",
       "</table>\n",
       "<p>106 rows × 12 columns</p>\n",
       "</div>"
      ],
      "text/plain": [
       "      ADJ   N   WW  VNW  VZ  SPEC  TW  LID  VG  BW  TSW  LET\n",
       "0100   21  82   85   61  51    36  17   39  24  25    1   44\n",
       "0101   18  54   78   57  43    32   6   26  21  26    1   28\n",
       "0102   32  62  101  100  42    34   5   30  41  64    5   61\n",
       "0103   13  36   65   52  33    25   3   22  28  36    0   25\n",
       "0104   12  35   58   45  30    19   5   21  26  44    2   21\n",
       "...   ...  ..  ...  ...  ..   ...  ..  ...  ..  ..  ...  ...\n",
       "2502   53  57   82   87  36    19   2   34  23  71   11   71\n",
       "2503   16  45   58   52  38    20   1   29  24  25    0   46\n",
       "2504   18  33   59   68  24    16   1   19  20  34    1   42\n",
       "2505   10  37   47   35  17    22   1   19  14  19    1   27\n",
       "2506   22  49   46   51  23    18   1   19   5  23    1   48\n",
       "\n",
       "[106 rows x 12 columns]"
      ]
     },
     "execution_count": 50,
     "metadata": {},
     "output_type": "execute_result"
    }
   ],
   "source": [
    "dist_df"
   ]
  },
  {
   "cell_type": "code",
   "execution_count": 55,
   "id": "7e3404ea-af9e-4ae0-8a3a-cdcef3993530",
   "metadata": {},
   "outputs": [],
   "source": [
    "testdist = dist_df.reset_index()"
   ]
  },
  {
   "cell_type": "code",
   "execution_count": 85,
   "id": "5452b336-69da-4d00-b3f6-9a3d3b985cfb",
   "metadata": {
    "tags": []
   },
   "outputs": [
    {
     "data": {
      "text/plain": [
       "<AxesSubplot:>"
      ]
     },
     "execution_count": 85,
     "metadata": {},
     "output_type": "execute_result"
    },
    {
     "data": {
      "image/png": "[encoded data removed]",
      "text/plain": [
       "<Figure size 432x288 with 1 Axes>"
      ]
     },
     "metadata": {
      "needs_background": "light"
     },
     "output_type": "display_data"
    }
   ],
   "source": [
    "testdist[testdist[\"index\"].isin(['0100', '0101', '0102', \n",
    "                                 '0103', '0104', '0105',\n",
    "                                '0106'])].plot.bar()"
   ]
  },
  {
   "cell_type": "code",
   "execution_count": 86,
   "id": "3d13a46d-884c-43be-a0dc-7264c80401fe",
   "metadata": {},
   "outputs": [
    {
     "data": {
      "text/plain": [
       "<AxesSubplot:>"
      ]
     },
     "execution_count": 86,
     "metadata": {},
     "output_type": "execute_result"
    },
    {
     "data": {
      "image/png": "[encoded data removed]",
      "text/plain": [
       "<Figure size 432x288 with 1 Axes>"
      ]
     },
     "metadata": {
      "needs_background": "light"
     },
     "output_type": "display_data"
    }
   ],
   "source": [
    "testdist[testdist[\"index\"].isin(['1100', '1101', '1102', \n",
    "                                 '1103', '1104', '1105',\n",
    "                                '1106'])].plot.bar()"
   ]
  },
  {
   "cell_type": "code",
   "execution_count": 87,
   "id": "b0cf7a4d-3a10-48a2-9d94-485d198a93c9",
   "metadata": {},
   "outputs": [
    {
     "data": {
      "text/plain": [
       "<AxesSubplot:>"
      ]
     },
     "execution_count": 87,
     "metadata": {},
     "output_type": "execute_result"
    },
    {
     "data": {
      "image/png": "[encoded data removed]",
      "text/plain": [
       "<Figure size 432x288 with 1 Axes>"
      ]
     },
     "metadata": {
      "needs_background": "light"
     },
     "output_type": "display_data"
    }
   ],
   "source": [
    "testdist[testdist[\"index\"].isin(['2100', '2101', '2102', \n",
    "                                 '2103', '2104', '2105',\n",
    "                                '2106'])].plot.bar()"
   ]
  },
  {
   "cell_type": "code",
   "execution_count": null,
   "id": "a6962f2b-8974-45fb-ad7b-1389c63ba2ef",
   "metadata": {},
   "outputs": [],
   "source": []
  }
 ],
 "metadata": {
  "kernelspec": {
   "display_name": "Python 3 (ipykernel)",
   "language": "python",
   "name": "python3"
  },
  "language_info": {
   "codemirror_mode": {
    "name": "ipython",
    "version": 3
   },
   "file_extension": ".py",
   "mimetype": "text/x-python",
   "name": "python",
   "nbconvert_exporter": "python",
   "pygments_lexer": "ipython3",
   "version": "3.8.10"
  }
 },
 "nbformat": 4,
 "nbformat_minor": 5
}
