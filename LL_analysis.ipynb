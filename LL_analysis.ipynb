{
 "cells": [
  {
   "cell_type": "markdown",
   "id": "6363d9b3-7d9f-4ff8-beab-a2e9542e7c45",
   "metadata": {},
   "source": [
    "# Lowlands analysis"
   ]
  },
  {
   "cell_type": "markdown",
   "id": "37127abb-a630-4e23-8505-f45b201b2da9",
   "metadata": {},
   "source": [
    "## Imports\n",
    "Loading necessary modules and initialise the parser"
   ]
  },
  {
   "cell_type": "code",
   "execution_count": 1,
   "id": "4aae3076-02ee-43f8-8f00-be673350856e",
   "metadata": {},
   "outputs": [
    {
     "name": "stderr",
     "output_type": "stream",
     "text": [
      "20210730:161713:800:config read from: /home/bma-vandijk/lama/share/frog/nld/frog.cfg\n",
      "20210730:161713:800:configuration version = 0.12\n",
      "20210730:161713:800: MWU disabled, because the Parser is deselected\n",
      "20210730:161713:802:mblem-:Initiating lemmatizer...\n",
      "ucto: textcat configured from: /home/bma-vandijk/lama/share/ucto/textcat.cfg\n",
      "20210730:161714:934:tagger-tagger-:reading subsets from /home/bma-vandijk/lama/share/frog/nld//subsets.cgn\n",
      "20210730:161714:937:tagger-tagger-:reading constraints from /home/bma-vandijk/lama/share/frog/nld//constraints.cgn\n",
      "20210730:161714:938:Fri Jul 30 16:17:14 2021 Initialization done.\n"
     ]
    }
   ],
   "source": [
    "import os\n",
    "import csv\n",
    "import re\n",
    "import pandas as pd\n",
    "import numpy as np\n",
    "from frog import Frog, FrogOptions\n",
    "\n",
    "\n",
    "# set up frog\n",
    "frog = Frog(FrogOptions(parser=False, morph=False,\n",
    "                            chunking=False, mwu=True,\n",
    "                            ner=False))\n",
    "\n",
    "# assign home dir\n",
    "wd = os.getcwd()"
   ]
  },
  {
   "cell_type": "markdown",
   "id": "2ca82fb9-f0b8-4586-bc2d-6567dd6529c9",
   "metadata": {},
   "source": [
    "## Preprocessing\n",
    "We load all the stories in a list of lists, with the latter consisting of story id and story string.\n",
    "There is some notational information extra in the transcription that is removed with the regexp function remove().\n"
   ]
  },
  {
   "cell_type": "code",
   "execution_count": 2,
   "id": "4a96e396-daf6-445a-a4ec-069ff65e16d1",
   "metadata": {
    "tags": []
   },
   "outputs": [],
   "source": [
    "def remove(raw):\n",
    "    raw = re.sub(r'(X|x)x{2,}', '', raw)                        # removes unclear speech codes (Xxx-xxx)\n",
    "    raw = re.sub(r'\\w+\\.?\\*n','', raw)                          # removes self-made words, onomatopoeias (*n)\n",
    "    raw = re.sub(r'(\\w+\\.?\\*a)', '', raw)                       # removes broken off words (*a)\n",
    "    raw = re.sub(r'\\.?\\*v', '', raw)                            # removes notation for foreign words (*v)\n",
    "    raw = re.sub(r'(\\w+\\-)+(\\w+)\\.?\\*u', r'\\2', raw)            # removes restarts of fully pronounced words (*u)\n",
    "    #raw = re.sub(r\"([A-Z]+(\\w)*-?(\\w)+('(\\w)+)?)\", '', raw)    # removes capitalized words, single letters\n",
    "    raw = re.sub(r'[eE]hm', '', raw)                            # removes standard interjection\n",
    "    raw = re.sub(r'\\?{2,}', '', raw)                            # removes two or more ?? in text\n",
    "    return raw\n",
    "\n",
    "themes  = ['01', '11', '21'], ['02', '12', '22'], ['03', '13', '23'], ['04', '14', '24'], ['05', '15', '25']\n",
    "\n",
    "def extract_storystrings():\n",
    "    \n",
    "    stories = []\n",
    "    \n",
    "    for i in themes:\n",
    "        story_ids = [f for f in os.listdir(f'{wd}/Lowlands_transcripts') if f[:2] in i]\n",
    "        story_ids.sort()\n",
    "\n",
    "        for s in story_ids:\n",
    "            with open(f'{wd}/Lowlands_transcripts/{s}', mode='r', encoding='utf-8-sig') as f:\n",
    "                stories.append([s[:4], remove(f.read())])\n",
    "                \n",
    "    return dict(stories)"
   ]
  },
  {
   "cell_type": "code",
   "execution_count": 3,
   "id": "b1f059bc-b39e-4ed4-bc22-c1aa19ae775d",
   "metadata": {},
   "outputs": [],
   "source": [
    "stories = extract_storystrings()"
   ]
  },
  {
   "cell_type": "markdown",
   "id": "e6c11a6f-3ca0-4683-9378-4188cb06334d",
   "metadata": {
    "tags": []
   },
   "source": [
    "## Analysis\n",
    "First we like to see how type/token ratios develop once story chains progress. Is this different for the five different stories?"
   ]
  },
  {
   "cell_type": "code",
   "execution_count": 69,
   "id": "15c0a37b-abb2-4281-a17b-289813e446f7",
   "metadata": {},
   "outputs": [],
   "source": [
    "def ttr(storydict):\n",
    "    stats = []\n",
    "    \n",
    "    for i, s  in storydict.items():\n",
    "        types = len(set([w for w in s.split() if w.islower()]))\n",
    "        tokens =len([w for w in s.split() if w.islower()])\n",
    "        stats.append((i, round(types/tokens, 2)))\n",
    "    \n",
    "    return dict(stats)"
   ]
  },
  {
   "cell_type": "code",
   "execution_count": 70,
   "id": "fccd763b-705f-41ae-838c-9349aaa60b73",
   "metadata": {},
   "outputs": [],
   "source": [
    "stories_df = pd.DataFrame.from_dict(ttr(stories), orient='index', columns = ['ttr'])"
   ]
  },
  {
   "cell_type": "markdown",
   "id": "0e553b7e-63c5-4202-9919-e67781c748d4",
   "metadata": {},
   "source": [
    "The plots show that for 4 of the 5 stories, most of the chains end in a higher ttr than they started, which means stories get more dense. They are becoming shorter with more unique words.\n",
    "The exception is the 'opgraving' story, here that only happens in 1 of the 3 chains."
   ]
  },
  {
   "cell_type": "code",
   "execution_count": 72,
   "id": "a3b37c13-1d70-43bb-ae5c-b72964b7f287",
   "metadata": {},
   "outputs": [
    {
     "data": {
      "text/plain": [
       "<AxesSubplot:>"
      ]
     },
     "execution_count": 72,
     "metadata": {},
     "output_type": "execute_result"
    },
    {
     "data": {
      "image/png": "[encoded data removed]",
      "text/plain": [
       "<Figure size 432x288 with 1 Axes>"
      ]
     },
     "metadata": {
      "needs_background": "light"
     },
     "output_type": "display_data"
    }
   ],
   "source": [
    "koffie = stories_df.filter(regex=\"^(01|11|21)\\d+\", axis = 0)\n",
    "koffie.plot.bar()"
   ]
  },
  {
   "cell_type": "code",
   "execution_count": 71,
   "id": "9663787f-a093-4b9a-95b8-832c93698658",
   "metadata": {},
   "outputs": [
    {
     "data": {
      "text/plain": [
       "<AxesSubplot:>"
      ]
     },
     "execution_count": 71,
     "metadata": {},
     "output_type": "execute_result"
    },
    {
     "data": {
      "image/png": "[encoded data removed]",
      "text/plain": [
       "<Figure size 432x288 with 1 Axes>"
      ]
     },
     "metadata": {
      "needs_background": "light"
     },
     "output_type": "display_data"
    }
   ],
   "source": [
    "pet = stories_df.filter(regex=\"^(02|12|22)\\d+\", axis = 0)\n",
    "pet.plot.bar()"
   ]
  },
  {
   "cell_type": "code",
   "execution_count": 74,
   "id": "3f532390-03c2-4d83-ba72-a720ddcd79ef",
   "metadata": {},
   "outputs": [
    {
     "data": {
      "text/plain": [
       "<AxesSubplot:>"
      ]
     },
     "execution_count": 74,
     "metadata": {},
     "output_type": "execute_result"
    },
    {
     "data": {
      "image/png": "[encoded data removed]",
      "text/plain": [
       "<Figure size 432x288 with 1 Axes>"
      ]
     },
     "metadata": {
      "needs_background": "light"
     },
     "output_type": "display_data"
    }
   ],
   "source": [
    "kipfilet = stories_df.filter(regex=\"^(03|13|23)\\d+\", axis = 0)\n",
    "kipfilet.plot.bar()"
   ]
  },
  {
   "cell_type": "code",
   "execution_count": 75,
   "id": "549d9efa-785e-4227-b718-07096937153b",
   "metadata": {},
   "outputs": [
    {
     "data": {
      "text/plain": [
       "<AxesSubplot:>"
      ]
     },
     "execution_count": 75,
     "metadata": {},
     "output_type": "execute_result"
    },
    {
     "data": {
      "image/png": "[encoded data removed]",
      "text/plain": [
       "<Figure size 432x288 with 1 Axes>"
      ]
     },
     "metadata": {
      "needs_background": "light"
     },
     "output_type": "display_data"
    }
   ],
   "source": [
    "bank = stories_df.filter(regex=\"^(04|14|24)\\d+\", axis = 0)\n",
    "bank.plot.bar()"
   ]
  },
  {
   "cell_type": "code",
   "execution_count": 76,
   "id": "6f910f60-0af9-49ea-b5d7-a3191fdf363d",
   "metadata": {},
   "outputs": [
    {
     "data": {
      "text/plain": [
       "<AxesSubplot:>"
      ]
     },
     "execution_count": 76,
     "metadata": {},
     "output_type": "execute_result"
    },
    {
     "data": {
      "image/png": "[encoded data removed]",
      "text/plain": [
       "<Figure size 432x288 with 1 Axes>"
      ]
     },
     "metadata": {
      "needs_background": "light"
     },
     "output_type": "display_data"
    }
   ],
   "source": [
    "opgraving = stories_df.filter(regex=\"^(05|15|25)\\d+\", axis = 0)\n",
    "opgraving.plot.bar()"
   ]
  },
  {
   "cell_type": "code",
   "execution_count": null,
   "id": "bf8bacae-2aad-4325-ac30-73b4a64a3d73",
   "metadata": {},
   "outputs": [],
   "source": []
  }
 ],
 "metadata": {
  "kernelspec": {
   "display_name": "Python 3 (ipykernel)",
   "language": "python",
   "name": "python3"
  },
  "language_info": {
   "codemirror_mode": {
    "name": "ipython",
    "version": 3
   },
   "file_extension": ".py",
   "mimetype": "text/x-python",
   "name": "python",
   "nbconvert_exporter": "python",
   "pygments_lexer": "ipython3",
   "version": "3.8.10"
  }
 },
 "nbformat": 4,
 "nbformat_minor": 5
}
