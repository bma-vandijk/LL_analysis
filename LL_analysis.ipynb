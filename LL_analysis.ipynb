{
 "cells": [
  {
   "cell_type": "markdown",
   "id": "6363d9b3-7d9f-4ff8-beab-a2e9542e7c45",
   "metadata": {},
   "source": [
    "# Lowlands analysis"
   ]
  },
  {
   "cell_type": "markdown",
   "id": "37127abb-a630-4e23-8505-f45b201b2da9",
   "metadata": {},
   "source": [
    "## Imports\n",
    "Loading necessary modules and initialise the parser"
   ]
  },
  {
   "cell_type": "code",
   "execution_count": 56,
   "id": "4aae3076-02ee-43f8-8f00-be673350856e",
   "metadata": {},
   "outputs": [
    {
     "name": "stderr",
     "output_type": "stream",
     "text": [
      "20210730:113147:681:config read from: /home/bma-vandijk/lama/share/frog/nld/frog.cfg\n",
      "20210730:113147:681:configuration version = 0.12\n",
      "20210730:113147:681: MWU disabled, because the Parser is deselected\n",
      "20210730:113147:682:mblem-:Initiating lemmatizer...\n",
      "ucto: textcat configured from: /home/bma-vandijk/lama/share/ucto/textcat.cfg\n",
      "20210730:113149:216:tagger-tagger-:reading subsets from /home/bma-vandijk/lama/share/frog/nld//subsets.cgn\n",
      "20210730:113149:216:tagger-tagger-:reading constraints from /home/bma-vandijk/lama/share/frog/nld//constraints.cgn\n",
      "20210730:113149:216:Fri Jul 30 11:31:49 2021 Initialization done.\n"
     ]
    }
   ],
   "source": [
    "import os\n",
    "import csv\n",
    "import re\n",
    "import random as rd\n",
    "import pandas as pd\n",
    "from frog import Frog, FrogOptions\n",
    "\n",
    "\n",
    "# set up frog\n",
    "frog = Frog(FrogOptions(parser=False, morph=False,\n",
    "                            chunking=False, mwu=True,\n",
    "                            ner=False))\n",
    "\n",
    "# assign home dir\n",
    "wd = os.getcwd()"
   ]
  },
  {
   "cell_type": "markdown",
   "id": "2ca82fb9-f0b8-4586-bc2d-6567dd6529c9",
   "metadata": {},
   "source": [
    "## Preprocessing\n",
    "We load all the stories in a list of lists, with the latter consisting of story id and story string.\n",
    "There is some notational information extra in the transcription that is removed with the regexp function remove().\n"
   ]
  },
  {
   "cell_type": "code",
   "execution_count": 140,
   "id": "4a96e396-daf6-445a-a4ec-069ff65e16d1",
   "metadata": {
    "tags": []
   },
   "outputs": [],
   "source": [
    "# T\n",
    "\n",
    "def remove(raw):\n",
    "    raw = re.sub(r'(X|x)x{2,}', '', raw)                        # removes unclear speech codes (Xxx-xxx)\n",
    "    raw = re.sub(r'\\w+\\.?\\*n','', raw)                          # removes self-made words, onomatopoeias (*n)\n",
    "    raw = re.sub(r'(\\w+\\.?\\*a)', '', raw)                       # removes broken off words (*a)\n",
    "    raw = re.sub(r'\\.?\\*v', '', raw)                            # removes notation for foreign words (*v)\n",
    "    raw = re.sub(r'(\\w+\\-)+(\\w+)\\.?\\*u', r'\\2', raw)            # removes restarts of fully pronounced words (*u)\n",
    "    #raw = re.sub(r\"([A-Z]+(\\w)*-?(\\w)+('(\\w)+)?)\", '', raw)    # removes capitalized words, single letters\n",
    "    raw = re.sub(r'[eE]hm', '', raw)                            # removes standard interjection\n",
    "    raw = re.sub(r'\\?{2,}', '', raw)                            # removes two or more ?? in text\n",
    "    return raw\n",
    "    \n",
    "\n",
    "\n",
    "def extract_storystrings():\n",
    "    \n",
    "    stories = []\n",
    "    \n",
    "    themes  = ['01', '11', '21'], ['02', '12', '22'], ['03', '13', '23'], ['04', '14', '24'], ['05', '15', '25']\n",
    "    \n",
    "    for i in themes:\n",
    "        story_ids = [f for f in os.listdir(f'{wd}/Lowlands_transcripts') if f[:2] in i]\n",
    "        story_ids.sort()\n",
    "\n",
    "        for s in story_ids:\n",
    "            with open(f'{wd}/Lowlands_transcripts/{s}', mode='r', encoding='utf-8-sig') as f:\n",
    "                stories.append([s[:4], remove(f.read())])\n",
    "                \n",
    "    return dict(stories)"
   ]
  },
  {
   "cell_type": "code",
   "execution_count": 141,
   "id": "b1f059bc-b39e-4ed4-bc22-c1aa19ae775d",
   "metadata": {},
   "outputs": [],
   "source": [
    "stories = extract_storystrings()"
   ]
  },
  {
   "cell_type": "markdown",
   "id": "e6c11a6f-3ca0-4683-9378-4188cb06334d",
   "metadata": {
    "tags": []
   },
   "source": [
    "## Analysis\n",
    "First we like to see how type/token ratios develop once story chains progress. Is this different for the three different stories?"
   ]
  },
  {
   "cell_type": "code",
   "execution_count": 146,
   "id": "15c0a37b-abb2-4281-a17b-289813e446f7",
   "metadata": {},
   "outputs": [],
   "source": [
    "def ttr(storydict):\n",
    "    stats = []\n",
    "    \n",
    "    for i, s  in storydict.items():\n",
    "        types = len(set(s.lower().split()))\n",
    "        tokens = len(s.lower().split())\n",
    "        stats.append((i, round(types/tokens, 2)))\n",
    "    \n",
    "    return dict(stats)"
   ]
  },
  {
   "cell_type": "code",
   "execution_count": 147,
   "id": "fccd763b-705f-41ae-838c-9349aaa60b73",
   "metadata": {},
   "outputs": [
    {
     "data": {
      "text/plain": [
       "{'0100': 0.54,\n",
       " '0101': 0.51,\n",
       " '0102': 0.43,\n",
       " '0103': 0.47,\n",
       " '0104': 0.48,\n",
       " '0105': 0.52,\n",
       " '0106': 0.45,\n",
       " '1100': 0.54,\n",
       " '1101': 0.47,\n",
       " '1102': 0.4,\n",
       " '1103': 0.46,\n",
       " '1104': 0.48,\n",
       " '1105': 0.59,\n",
       " '1106': 0.59,\n",
       " '1107': 0.58,\n",
       " '2100': 0.54,\n",
       " '2101': 0.64,\n",
       " '2102': 0.52,\n",
       " '2103': 0.67,\n",
       " '2104': 0.7,\n",
       " '2105': 0.69,\n",
       " '2106': 0.71,\n",
       " '0200': 0.53,\n",
       " '0201': 0.47,\n",
       " '0202': 0.5,\n",
       " '0203': 0.56,\n",
       " '0204': 0.74,\n",
       " '0205': 0.62,\n",
       " '0206': 0.64,\n",
       " '1200': 0.53,\n",
       " '1201': 0.44,\n",
       " '1202': 0.44,\n",
       " '1203': 0.48,\n",
       " '1204': 0.46,\n",
       " '1205': 0.44,\n",
       " '1206': 0.48,\n",
       " '2200': 0.53,\n",
       " '2201': 0.47,\n",
       " '2202': 0.42,\n",
       " '2203': 0.45,\n",
       " '2204': 0.5,\n",
       " '2205': 0.54,\n",
       " '2206': 0.63,\n",
       " '0300': 0.5,\n",
       " '0301': 0.43,\n",
       " '0302': 0.46,\n",
       " '0303': 0.53,\n",
       " '0304': 0.5,\n",
       " '0305': 0.7,\n",
       " '0306': 0.66,\n",
       " '1300': 0.5,\n",
       " '1301': 0.48,\n",
       " '1302': 0.44,\n",
       " '1303': 0.43,\n",
       " '1304': 0.5,\n",
       " '1305': 0.49,\n",
       " '1306': 0.55,\n",
       " '2300': 0.5,\n",
       " '2301': 0.48,\n",
       " '2302': 0.53,\n",
       " '2303': 0.44,\n",
       " '2304': 0.47,\n",
       " '2305': 0.59,\n",
       " '2306': 0.58,\n",
       " '0400': 0.54,\n",
       " '0401': 0.45,\n",
       " '0402': 0.41,\n",
       " '0403': 0.47,\n",
       " '0404': 0.49,\n",
       " '0405': 0.53,\n",
       " '0406': 0.68,\n",
       " '1400': 0.54,\n",
       " '1401': 0.51,\n",
       " '1402': 0.56,\n",
       " '1403': 0.52,\n",
       " '1404': 0.56,\n",
       " '1405': 0.55,\n",
       " '1406': 0.63,\n",
       " '2400': 0.54,\n",
       " '2401': 0.55,\n",
       " '2402': 0.6,\n",
       " '2403': 0.61,\n",
       " '2404': 0.66,\n",
       " '2405': 0.66,\n",
       " '2406': 0.56,\n",
       " '0500': 0.54,\n",
       " '0501': 0.43,\n",
       " '0502': 0.52,\n",
       " '0503': 0.47,\n",
       " '0504': 0.49,\n",
       " '0505': 0.56,\n",
       " '0506': 0.57,\n",
       " '1500': 0.54,\n",
       " '1501': 0.58,\n",
       " '1502': 0.61,\n",
       " '1503': 0.53,\n",
       " '1504': 0.54,\n",
       " '1505': 0.55,\n",
       " '1506': 0.59,\n",
       " '2500': 0.54,\n",
       " '2501': 0.51,\n",
       " '2502': 0.48,\n",
       " '2503': 0.54,\n",
       " '2504': 0.53,\n",
       " '2505': 0.52,\n",
       " '2506': 0.55}"
      ]
     },
     "execution_count": 147,
     "metadata": {},
     "output_type": "execute_result"
    }
   ],
   "source": [
    "ttr(stories)"
   ]
  },
  {
   "cell_type": "code",
   "execution_count": null,
   "id": "71d137ad-9339-47da-9cd0-6d8f2e869b9e",
   "metadata": {},
   "outputs": [],
   "source": []
  }
 ],
 "metadata": {
  "kernelspec": {
   "display_name": "Python 3 (ipykernel)",
   "language": "python",
   "name": "python3"
  },
  "language_info": {
   "codemirror_mode": {
    "name": "ipython",
    "version": 3
   },
   "file_extension": ".py",
   "mimetype": "text/x-python",
   "name": "python",
   "nbconvert_exporter": "python",
   "pygments_lexer": "ipython3",
   "version": "3.8.10"
  }
 },
 "nbformat": 4,
 "nbformat_minor": 5
}
