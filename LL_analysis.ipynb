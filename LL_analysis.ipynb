{
 "cells": [
  {
   "cell_type": "markdown",
   "id": "6363d9b3-7d9f-4ff8-beab-a2e9542e7c45",
   "metadata": {},
   "source": [
    "# Lowlands analysis"
   ]
  },
  {
   "cell_type": "markdown",
   "id": "37127abb-a630-4e23-8505-f45b201b2da9",
   "metadata": {},
   "source": [
    "## Imports\n",
    "Loading necessary modules and initialise the parser"
   ]
  },
  {
   "cell_type": "code",
   "execution_count": 28,
   "id": "4aae3076-02ee-43f8-8f00-be673350856e",
   "metadata": {},
   "outputs": [
    {
     "name": "stderr",
     "output_type": "stream",
     "text": [
      "20210730:140333:922:config read from: /home/bma-vandijk/lama/share/frog/nld/frog.cfg\n",
      "20210730:140333:922:configuration version = 0.12\n",
      "20210730:140333:922: MWU disabled, because the Parser is deselected\n",
      "20210730:140333:923:mblem-:Initiating lemmatizer...\n",
      "ucto: textcat configured from: /home/bma-vandijk/lama/share/ucto/textcat.cfg\n",
      "20210730:140335:227:tagger-tagger-:reading subsets from /home/bma-vandijk/lama/share/frog/nld//subsets.cgn\n",
      "20210730:140335:227:tagger-tagger-:reading constraints from /home/bma-vandijk/lama/share/frog/nld//constraints.cgn\n",
      "20210730:140335:227:Fri Jul 30 14:03:35 2021 Initialization done.\n"
     ]
    }
   ],
   "source": [
    "import os\n",
    "import csv\n",
    "import re\n",
    "import pandas as pd\n",
    "import numpy as np\n",
    "from frog import Frog, FrogOptions\n",
    "\n",
    "\n",
    "# set up frog\n",
    "frog = Frog(FrogOptions(parser=False, morph=False,\n",
    "                            chunking=False, mwu=True,\n",
    "                            ner=False))\n",
    "\n",
    "# assign home dir\n",
    "wd = os.getcwd()"
   ]
  },
  {
   "cell_type": "markdown",
   "id": "2ca82fb9-f0b8-4586-bc2d-6567dd6529c9",
   "metadata": {},
   "source": [
    "## Preprocessing\n",
    "We load all the stories in a list of lists, with the latter consisting of story id and story string.\n",
    "There is some notational information extra in the transcription that is removed with the regexp function remove().\n"
   ]
  },
  {
   "cell_type": "code",
   "execution_count": 18,
   "id": "4a96e396-daf6-445a-a4ec-069ff65e16d1",
   "metadata": {
    "tags": []
   },
   "outputs": [],
   "source": [
    "def remove(raw):\n",
    "    raw = re.sub(r'(X|x)x{2,}', '', raw)                        # removes unclear speech codes (Xxx-xxx)\n",
    "    raw = re.sub(r'\\w+\\.?\\*n','', raw)                          # removes self-made words, onomatopoeias (*n)\n",
    "    raw = re.sub(r'(\\w+\\.?\\*a)', '', raw)                       # removes broken off words (*a)\n",
    "    raw = re.sub(r'\\.?\\*v', '', raw)                            # removes notation for foreign words (*v)\n",
    "    raw = re.sub(r'(\\w+\\-)+(\\w+)\\.?\\*u', r'\\2', raw)            # removes restarts of fully pronounced words (*u)\n",
    "    #raw = re.sub(r\"([A-Z]+(\\w)*-?(\\w)+('(\\w)+)?)\", '', raw)    # removes capitalized words, single letters\n",
    "    raw = re.sub(r'[eE]hm', '', raw)                            # removes standard interjection\n",
    "    raw = re.sub(r'\\?{2,}', '', raw)                            # removes two or more ?? in text\n",
    "    return raw\n",
    "\n",
    "themes  = ['01', '11', '21'], ['02', '12', '22'], ['03', '13', '23'], ['04', '14', '24'], ['05', '15', '25']\n",
    "\n",
    "def extract_storystrings():\n",
    "    \n",
    "    stories = []\n",
    "    \n",
    "    for i in themes:\n",
    "        story_ids = [f for f in os.listdir(f'{wd}/Lowlands_transcripts') if f[:2] in i]\n",
    "        story_ids.sort()\n",
    "\n",
    "        for s in story_ids:\n",
    "            with open(f'{wd}/Lowlands_transcripts/{s}', mode='r', encoding='utf-8-sig') as f:\n",
    "                stories.append([s[:4], remove(f.read())])\n",
    "                \n",
    "    return dict(stories)"
   ]
  },
  {
   "cell_type": "code",
   "execution_count": 19,
   "id": "b1f059bc-b39e-4ed4-bc22-c1aa19ae775d",
   "metadata": {},
   "outputs": [],
   "source": [
    "stories = extract_storystrings()"
   ]
  },
  {
   "cell_type": "markdown",
   "id": "e6c11a6f-3ca0-4683-9378-4188cb06334d",
   "metadata": {
    "tags": []
   },
   "source": [
    "## Analysis\n",
    "First we like to see how type/token ratios develop once story chains progress. Is this different for the five different stories?"
   ]
  },
  {
   "cell_type": "code",
   "execution_count": 53,
   "id": "15c0a37b-abb2-4281-a17b-289813e446f7",
   "metadata": {},
   "outputs": [],
   "source": [
    "def ttr(storydict):\n",
    "    stats = []\n",
    "    \n",
    "    for i, s  in storydict.items():\n",
    "        types = len(set([w for w in s.split() if w.islower()]))\n",
    "        tokens =len([w for w in s.split() if w.islower()])\n",
    "        stats.append((i, round(types/tokens, 2)))\n",
    "    \n",
    "    return dict(stats)\n",
    "\n",
    "        "
   ]
  },
  {
   "cell_type": "code",
   "execution_count": 85,
   "id": "fccd763b-705f-41ae-838c-9349aaa60b73",
   "metadata": {},
   "outputs": [
    {
     "data": {
      "text/plain": [
       "<AxesSubplot:>"
      ]
     },
     "execution_count": 85,
     "metadata": {},
     "output_type": "execute_result"
    },
    {
     "data": {
      "image/png": "[encoded data removed]",
      "text/plain": [
       "<Figure size 432x288 with 1 Axes>"
      ]
     },
     "metadata": {
      "needs_background": "light"
     },
     "output_type": "display_data"
    }
   ],
   "source": [
    "stories_df = pd.DataFrame.from_dict(ttr(stories), orient='index', columns = ['ttr'])\n",
    "stories_df = stories_df.reset_index()\n",
    "\n",
    "df['label'] = np.where(\n",
    "    df['ttr'] == df['B'], 0, np.where(\n",
    "    df['A'] >  df['B'], 1, -1)) "
   ]
  },
  {
   "cell_type": "code",
   "execution_count": 82,
   "id": "5262e16e-5e85-4616-a6ca-f64bc0a9aabf",
   "metadata": {},
   "outputs": [
    {
     "data": {
      "text/html": [
       "<div>\n",
       "<style scoped>\n",
       "    .dataframe tbody tr th:only-of-type {\n",
       "        vertical-align: middle;\n",
       "    }\n",
       "\n",
       "    .dataframe tbody tr th {\n",
       "        vertical-align: top;\n",
       "    }\n",
       "\n",
       "    .dataframe thead th {\n",
       "        text-align: right;\n",
       "    }\n",
       "</style>\n",
       "<table border=\"1\" class=\"dataframe\">\n",
       "  <thead>\n",
       "    <tr style=\"text-align: right;\">\n",
       "      <th></th>\n",
       "      <th>index</th>\n",
       "      <th>ttr</th>\n",
       "    </tr>\n",
       "  </thead>\n",
       "  <tbody>\n",
       "    <tr>\n",
       "      <th>0</th>\n",
       "      <td>0100</td>\n",
       "      <td>0.56</td>\n",
       "    </tr>\n",
       "    <tr>\n",
       "      <th>1</th>\n",
       "      <td>0101</td>\n",
       "      <td>0.53</td>\n",
       "    </tr>\n",
       "    <tr>\n",
       "      <th>2</th>\n",
       "      <td>0102</td>\n",
       "      <td>0.43</td>\n",
       "    </tr>\n",
       "    <tr>\n",
       "      <th>3</th>\n",
       "      <td>0103</td>\n",
       "      <td>0.47</td>\n",
       "    </tr>\n",
       "    <tr>\n",
       "      <th>4</th>\n",
       "      <td>0104</td>\n",
       "      <td>0.48</td>\n",
       "    </tr>\n",
       "    <tr>\n",
       "      <th>...</th>\n",
       "      <td>...</td>\n",
       "      <td>...</td>\n",
       "    </tr>\n",
       "    <tr>\n",
       "      <th>101</th>\n",
       "      <td>2502</td>\n",
       "      <td>0.47</td>\n",
       "    </tr>\n",
       "    <tr>\n",
       "      <th>102</th>\n",
       "      <td>2503</td>\n",
       "      <td>0.54</td>\n",
       "    </tr>\n",
       "    <tr>\n",
       "      <th>103</th>\n",
       "      <td>2504</td>\n",
       "      <td>0.52</td>\n",
       "    </tr>\n",
       "    <tr>\n",
       "      <th>104</th>\n",
       "      <td>2505</td>\n",
       "      <td>0.54</td>\n",
       "    </tr>\n",
       "    <tr>\n",
       "      <th>105</th>\n",
       "      <td>2506</td>\n",
       "      <td>0.54</td>\n",
       "    </tr>\n",
       "  </tbody>\n",
       "</table>\n",
       "<p>106 rows × 2 columns</p>\n",
       "</div>"
      ],
      "text/plain": [
       "    index   ttr\n",
       "0    0100  0.56\n",
       "1    0101  0.53\n",
       "2    0102  0.43\n",
       "3    0103  0.47\n",
       "4    0104  0.48\n",
       "..    ...   ...\n",
       "101  2502  0.47\n",
       "102  2503  0.54\n",
       "103  2504  0.52\n",
       "104  2505  0.54\n",
       "105  2506  0.54\n",
       "\n",
       "[106 rows x 2 columns]"
      ]
     },
     "execution_count": 82,
     "metadata": {},
     "output_type": "execute_result"
    }
   ],
   "source": []
  },
  {
   "cell_type": "code",
   "execution_count": null,
   "id": "a3b37c13-1d70-43bb-ae5c-b72964b7f287",
   "metadata": {},
   "outputs": [],
   "source": []
  },
  {
   "cell_type": "markdown",
   "id": "144382a7-6655-45e5-8e2d-2375916a9339",
   "metadata": {
    "tags": []
   },
   "source": [
    "Now let's see how POS-tags are distributed."
   ]
  }
 ],
 "metadata": {
  "kernelspec": {
   "display_name": "Python 3 (ipykernel)",
   "language": "python",
   "name": "python3"
  },
  "language_info": {
   "codemirror_mode": {
    "name": "ipython",
    "version": 3
   },
   "file_extension": ".py",
   "mimetype": "text/x-python",
   "name": "python",
   "nbconvert_exporter": "python",
   "pygments_lexer": "ipython3",
   "version": "3.8.10"
  }
 },
 "nbformat": 4,
 "nbformat_minor": 5
}
